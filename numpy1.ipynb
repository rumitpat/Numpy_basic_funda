{
 "cells": [
  {
   "cell_type": "code",
   "execution_count": 5,
   "metadata": {},
   "outputs": [
    {
     "name": "stdout",
     "output_type": "stream",
     "text": [
      "[1 2 3]\n",
      "[3 2 3]\n"
     ]
    }
   ],
   "source": [
    "import numpy as np\n",
    "a =np.array([1,2,3])\n",
    "b =np.array((3,2,3))\n",
    "print(a)\n",
    "print(b)"
   ]
  },
  {
   "cell_type": "code",
   "execution_count": 1,
   "metadata": {},
   "outputs": [
    {
     "data": {
      "text/plain": [
       "list"
      ]
     },
     "execution_count": 1,
     "metadata": {},
     "output_type": "execute_result"
    }
   ],
   "source": [
    "a =''\n",
    "b =a.split()\n",
    "type(b)"
   ]
  },
  {
   "cell_type": "code",
   "execution_count": 1,
   "metadata": {},
   "outputs": [
    {
     "name": "stdout",
     "output_type": "stream",
     "text": [
      "1.18.2\n"
     ]
    }
   ],
   "source": [
    "import numpy as np\n",
    "print(np.__version__)"
   ]
  },
  {
   "cell_type": "code",
   "execution_count": 7,
   "metadata": {},
   "outputs": [
    {
     "name": "stdout",
     "output_type": "stream",
     "text": [
      "[3 4 3]\n"
     ]
    }
   ],
   "source": [
    "b[1]=4\n",
    "print(b)"
   ]
  },
  {
   "cell_type": "code",
   "execution_count": 6,
   "metadata": {},
   "outputs": [
    {
     "name": "stdout",
     "output_type": "stream",
     "text": [
      "[[1 2 3]\n",
      " [4 5 6]]\n"
     ]
    }
   ],
   "source": [
    "c =np.array([[1,2,3],[4,5,6]])\n",
    "print(c)"
   ]
  },
  {
   "cell_type": "code",
   "execution_count": 12,
   "metadata": {},
   "outputs": [
    {
     "data": {
      "text/plain": [
       "numpy.ndarray"
      ]
     },
     "execution_count": 12,
     "metadata": {},
     "output_type": "execute_result"
    }
   ],
   "source": [
    "type(c)"
   ]
  },
  {
   "cell_type": "code",
   "execution_count": 14,
   "metadata": {},
   "outputs": [
    {
     "data": {
      "text/plain": [
       "array([4, 5, 6])"
      ]
     },
     "execution_count": 14,
     "metadata": {},
     "output_type": "execute_result"
    }
   ],
   "source": [
    "c[1]"
   ]
  },
  {
   "cell_type": "code",
   "execution_count": 15,
   "metadata": {},
   "outputs": [
    {
     "data": {
      "text/plain": [
       "array([1, 2, 3])"
      ]
     },
     "execution_count": 15,
     "metadata": {},
     "output_type": "execute_result"
    }
   ],
   "source": [
    "c[0]"
   ]
  },
  {
   "cell_type": "code",
   "execution_count": 8,
   "metadata": {},
   "outputs": [
    {
     "data": {
      "text/plain": [
       "array([], shape=(0, 3), dtype=int32)"
      ]
     },
     "execution_count": 8,
     "metadata": {},
     "output_type": "execute_result"
    }
   ],
   "source": [
    "c[:0]"
   ]
  },
  {
   "cell_type": "code",
   "execution_count": 20,
   "metadata": {},
   "outputs": [
    {
     "data": {
      "text/plain": [
       "array([1, 2, 3])"
      ]
     },
     "execution_count": 20,
     "metadata": {},
     "output_type": "execute_result"
    }
   ],
   "source": [
    "a[0:]"
   ]
  },
  {
   "cell_type": "code",
   "execution_count": 10,
   "metadata": {},
   "outputs": [
    {
     "data": {
      "text/plain": [
       "array([1, 2, 3])"
      ]
     },
     "execution_count": 10,
     "metadata": {},
     "output_type": "execute_result"
    }
   ],
   "source": [
    "a[0:3]"
   ]
  },
  {
   "cell_type": "code",
   "execution_count": 21,
   "metadata": {},
   "outputs": [
    {
     "data": {
      "text/plain": [
       "array([[0., 0., 0.],\n",
       "       [0., 0., 0.],\n",
       "       [0., 0., 0.]])"
      ]
     },
     "execution_count": 21,
     "metadata": {},
     "output_type": "execute_result"
    }
   ],
   "source": [
    "a =np.zeros((3,3))#np.zeros((rows,coloum))\n",
    "a"
   ]
  },
  {
   "cell_type": "code",
   "execution_count": 23,
   "metadata": {},
   "outputs": [
    {
     "name": "stdout",
     "output_type": "stream",
     "text": [
      "[10 12 14 16 18 20 22 24 26 28 30 32]\n"
     ]
    }
   ],
   "source": [
    "#np.arange(starting nu,ending num,diffrrent)\n",
    "a =np.arange(10,34,2)\n",
    "print(a)"
   ]
  },
  {
   "cell_type": "code",
   "execution_count": 25,
   "metadata": {},
   "outputs": [
    {
     "name": "stdout",
     "output_type": "stream",
     "text": [
      "[1.         1.07142857 1.14285714 1.21428571 1.28571429 1.35714286\n",
      " 1.42857143 1.5        1.57142857 1.64285714 1.71428571 1.78571429\n",
      " 1.85714286 1.92857143 2.        ]\n"
     ]
    }
   ],
   "source": [
    "#np.linspace(starting num,ending nu,nu of you space)\n",
    "b =np.linspace(1,2,15)\n",
    "print(b)"
   ]
  },
  {
   "cell_type": "code",
   "execution_count": 13,
   "metadata": {},
   "outputs": [
    {
     "data": {
      "text/plain": [
       "array([[5, 5, 5],\n",
       "       [5, 5, 5],\n",
       "       [5, 5, 5]])"
      ]
     },
     "execution_count": 13,
     "metadata": {},
     "output_type": "execute_result"
    }
   ],
   "source": [
    "#np.full((rows,coloum),element)\n",
    "c =np.full((3,3),5)"
   ]
  },
  {
   "cell_type": "code",
   "execution_count": 29,
   "metadata": {},
   "outputs": [
    {
     "data": {
      "text/plain": [
       "array([[0.28926059, 0.76301725, 0.92359537],\n",
       "       [0.15519355, 0.09801453, 0.56654688],\n",
       "       [0.46476566, 0.44766268, 0.36735347]])"
      ]
     },
     "execution_count": 29,
     "metadata": {},
     "output_type": "execute_result"
    }
   ],
   "source": [
    "d =np.random.random((3,3))\n",
    "d"
   ]
  },
  {
   "cell_type": "code",
   "execution_count": 15,
   "metadata": {
    "scrolled": false
   },
   "outputs": [
    {
     "name": "stdout",
     "output_type": "stream",
     "text": [
      "[[1 2 3]\n",
      " [4 5 6]]\n",
      "(2, 3)\n"
     ]
    }
   ],
   "source": [
    "a =np.array( [[1,2,3],[4,5,6]])\n",
    "print(a)\n",
    "#shape fun use for a row nu and col num\n",
    "print(a.shape)\n"
   ]
  },
  {
   "cell_type": "code",
   "execution_count": 23,
   "metadata": {},
   "outputs": [
    {
     "name": "stdout",
     "output_type": "stream",
     "text": [
      "[[1 2]\n",
      " [3 4]\n",
      " [5 6]]\n"
     ]
    }
   ],
   "source": [
    "a =np.array( [[1,2,3],[4,5,6]])\n",
    "a.shape =(3,2)\n",
    "#print(a.shape[1])\n",
    "print(a)"
   ]
  },
  {
   "cell_type": "code",
   "execution_count": 25,
   "metadata": {},
   "outputs": [
    {
     "name": "stdout",
     "output_type": "stream",
     "text": [
      "(2, 5)\n",
      "2\n",
      "5\n",
      "[[1 2]\n",
      " [3 4]\n",
      " [5 6]\n",
      " [7 8]\n",
      " [9 0]]\n"
     ]
    }
   ],
   "source": [
    "import numpy as np\n",
    "a =np.array([[1,2,3,4,5],[6,7,8,9,0]])\n",
    "print(a.shape)\n",
    "a.shape =(5,2)\n",
    "print(a.shape[1])\n",
    "print(a.shape[0])\n",
    "print(a)"
   ]
  },
  {
   "cell_type": "code",
   "execution_count": 8,
   "metadata": {},
   "outputs": [
    {
     "name": "stdout",
     "output_type": "stream",
     "text": [
      "(2, 4)\n",
      "2\n",
      "[[1 2]\n",
      " [3 4]\n",
      " [5 6]\n",
      " [7 8]]\n"
     ]
    }
   ],
   "source": [
    "import numpy as np\n",
    "a =np.array( [[1,2,3,4],[5,6,7,8]] )\n",
    "print(a.shape)\n",
    "print(a.ndim)\n",
    "a.shape =(4,2)\n",
    "print(a)\n"
   ]
  },
  {
   "cell_type": "code",
   "execution_count": 2,
   "metadata": {},
   "outputs": [
    {
     "name": "stdout",
     "output_type": "stream",
     "text": [
      "[[1 2 3 4]\n",
      " [5 6 7 8]]\n",
      "[0 1 2 3 4 5 6 7]\n"
     ]
    }
   ],
   "source": [
    "#np.range(number of point needed)\n",
    "#will place the num between 0 till thatnumber\n",
    "import numpy as np\n",
    "a =np.array( [[1,2,3,4],[5,6,7,8]] )\n",
    "print(a)\n",
    "a =np.arange(8)\n",
    "print(a)"
   ]
  },
  {
   "cell_type": "code",
   "execution_count": 33,
   "metadata": {
    "scrolled": true
   },
   "outputs": [
    {
     "name": "stdout",
     "output_type": "stream",
     "text": [
      "[[1 2 3]\n",
      " [4 5 6]]\n"
     ]
    },
    {
     "data": {
      "text/plain": [
       "6"
      ]
     },
     "execution_count": 33,
     "metadata": {},
     "output_type": "execute_result"
    }
   ],
   "source": [
    "import numpy as np\n",
    "a =np.array( [[1,2,3],[4,5,6]])\n",
    "print(a)\n",
    "a.size"
   ]
  },
  {
   "cell_type": "code",
   "execution_count": null,
   "metadata": {},
   "outputs": [],
   "source": [
    "a.size"
   ]
  },
  {
   "cell_type": "code",
   "execution_count": 3,
   "metadata": {},
   "outputs": [
    {
     "name": "stdout",
     "output_type": "stream",
     "text": [
      "24\n",
      "[ 0  1  2  3  4  5  6  7  8  9 10 11 12 13 14 15 16 17 18 19 20 21 22 23]\n",
      "int32\n"
     ]
    }
   ],
   "source": [
    "import numpy as np\n",
    "a =np.arange(24)\n",
    "print(a.size)\n",
    "print(a)\n",
    "print(a.dtype)"
   ]
  },
  {
   "cell_type": "code",
   "execution_count": 12,
   "metadata": {},
   "outputs": [
    {
     "name": "stdout",
     "output_type": "stream",
     "text": [
      "[ 5.          5.38461538  5.76923077  6.15384615  6.53846154  6.92307692\n",
      "  7.30769231  7.69230769  8.07692308  8.46153846  8.84615385  9.23076923\n",
      "  9.61538462 10.        ]\n",
      "float64\n"
     ]
    }
   ],
   "source": [
    "b =np.linspace(5,10,14)\n",
    "print(b)\n",
    "print(b.dtype)"
   ]
  },
  {
   "cell_type": "code",
   "execution_count": 37,
   "metadata": {},
   "outputs": [
    {
     "data": {
      "text/plain": [
       "11"
      ]
     },
     "execution_count": 37,
     "metadata": {},
     "output_type": "execute_result"
    }
   ],
   "source": [
    "a =np.array([5,6])\n",
    "np.sum(a)"
   ]
  },
  {
   "cell_type": "code",
   "execution_count": 7,
   "metadata": {},
   "outputs": [
    {
     "name": "stdout",
     "output_type": "stream",
     "text": [
      "[2 3 4]\n",
      "\n",
      "\n",
      "[2 1 6]\n",
      "\n",
      "\n",
      "[ 0  2 -2]\n",
      "[ 4  4 10]\n",
      "[1.         3.         0.66666667]\n",
      "[ 4  3 24]\n",
      "[0.69314718 1.09861229 1.38629436]\n",
      "[ 0.90929743  0.14112001 -0.7568025 ]\n",
      "[-0.41614684 -0.9899925  -0.65364362]\n",
      "[ True False False]\n",
      "False\n",
      "[9 9]\n",
      "[ 4  4 10]\n"
     ]
    }
   ],
   "source": [
    "a =np.array([2,3,4])\n",
    "b =np.array([2,1,6])\n",
    "\n",
    "\n",
    "print(a)\n",
    "print(\"\\n\")\n",
    "print(b)\n",
    "print(\"\\n\")\n",
    "\n",
    "print(np.subtract(a,b))\n",
    "print(np.add(a,b))\n",
    "print(np.divide(a,b))\n",
    "print(np.multiply(a,b))\n",
    "print(np.log(a))\n",
    "print(np.sin(a))\n",
    "print(np.cos(a))\n",
    "print(np.equal(a,b))\n",
    "print(np.array_equal(a,b))\n",
    "print(np.sum([a,b],axis=1))# base on the col\n",
    "print(np.sum([a,b],axis=0))#bas eon the row"
   ]
  },
  {
   "cell_type": "code",
   "execution_count": 49,
   "metadata": {},
   "outputs": [
    {
     "name": "stdout",
     "output_type": "stream",
     "text": [
      "21\n",
      "1\n",
      "6\n",
      "3.5\n",
      "1.707825127659933\n",
      "3.5\n",
      "[[1. 1.]\n",
      " [1. 1.]]\n"
     ]
    }
   ],
   "source": [
    "a =np.array([[1,2,3],[4,5,6]])\n",
    "print(np.sum(a))\n",
    "print(np.min(a))\n",
    "print(np.max(a))\n",
    "print(np.mean(a))\n",
    "print(np.std(a))\n",
    "print(np.median(a))\n",
    "print(np.corrcoef(a))"
   ]
  },
  {
   "cell_type": "code",
   "execution_count": 7,
   "metadata": {},
   "outputs": [
    {
     "name": "stdout",
     "output_type": "stream",
     "text": [
      "[[1 2 3]\n",
      " [4 5 6]\n",
      " [1 2 3]]\n",
      "[1 2 3]\n",
      "[[2 4 6]\n",
      " [5 7 9]\n",
      " [2 4 6]]\n",
      "[[0 0 0]\n",
      " [3 3 3]\n",
      " [0 0 0]]\n",
      "[[ 1  4  9]\n",
      " [ 4 10 18]\n",
      " [ 1  4  9]]\n",
      "[[1.  1.  1. ]\n",
      " [4.  2.5 2. ]\n",
      " [1.  1.  1. ]]\n"
     ]
    }
   ],
   "source": [
    "#array brodcasting\n",
    "import numpy as np\n",
    "a =np.array([[1,2,3],[4,5,6],[1,2,3]])\n",
    "b =np.array([1,2,3])\n",
    "print(a)\n",
    "print(b)\n",
    "print(np.add(a,b))\n",
    "print(np.subtract(a,b))\n",
    "print(np.multiply(a,b))\n",
    "print(np.divide(a,b))"
   ]
  },
  {
   "cell_type": "code",
   "execution_count": 19,
   "metadata": {},
   "outputs": [
    {
     "name": "stdout",
     "output_type": "stream",
     "text": [
      "monty python\n",
      " python\n",
      "monty \n"
     ]
    }
   ],
   "source": [
    "str1= \"monty python\"\n",
    "print(str1)\n",
    "print(str1[5:12])\n",
    "print(str1[-12:-6])"
   ]
  },
  {
   "cell_type": "code",
   "execution_count": 10,
   "metadata": {
    "scrolled": true
   },
   "outputs": [
    {
     "name": "stdout",
     "output_type": "stream",
     "text": [
      "[[1 2 3]\n",
      " [4 5 6]\n",
      " [7 8 9]]\n",
      "[[1 2 3]]\n",
      "[[1 2 3]\n",
      " [4 5 6]]\n",
      "[[4 5 6]\n",
      " [7 8 9]]\n",
      "[[7 8 9]]\n",
      "[[1 2 3]\n",
      " [4 5 6]\n",
      " [7 8 9]]\n",
      "[[2 3]\n",
      " [5 6]\n",
      " [8 9]]\n",
      "[[1]\n",
      " [4]\n",
      " [7]]\n",
      "[[4 5 6]\n",
      " [7 8 9]]\n",
      "[[1 2 3]\n",
      " [4 5 6]]\n"
     ]
    }
   ],
   "source": [
    "import numpy as np\n",
    "a = np.array([[1,2,3],[4,5,6],[7,8,9]]) \n",
    "\n",
    "print(a)\n",
    "\n",
    "\n",
    "print(a[:1])\n",
    "print(a[:2])\n",
    "print(a[1:])\n",
    "print(a[2:])\n",
    "print(a[0:])\n",
    "\n",
    "print(a[:,1:])\n",
    "\n",
    "print(a[:,:1])\n",
    "print(a[1:,:3])\n",
    "print(a[:2,:3])\n",
    "\n",
    "\n"
   ]
  },
  {
   "cell_type": "code",
   "execution_count": 39,
   "metadata": {},
   "outputs": [
    {
     "name": "stdout",
     "output_type": "stream",
     "text": [
      "[[1 2 3]\n",
      " [4 5 6]\n",
      " [7 8 9]]\n",
      "\n",
      "\n",
      "[1 2 3]\n",
      "\n",
      "\n",
      "[[1 2 3]]\n",
      "\n",
      "\n",
      "[[3]]\n",
      "\n",
      "\n",
      "[[2 3]\n",
      " [5 6]]\n",
      "\n",
      "\n",
      "[[2 3]\n",
      " [5 6]\n",
      " [8 9]]\n",
      "[8 9]\n",
      "5\n"
     ]
    }
   ],
   "source": [
    "import numpy as np\n",
    "a = np.array([[1,2,3],[4,5,6],[7,8,9]]) \n",
    "print(a)\n",
    "print(\"\\n\")\n",
    "print(a[0])\n",
    "print(\"\\n\")\n",
    "print(a[:1])\n",
    "print('\\n')\n",
    "print(a[:1,2:])\n",
    "print(\"\\n\")\n",
    "print(a[:2,1:])\n",
    "print(\"\\n\")\n",
    "print(a[:,1:])\n",
    "print(a[2,1:])\n",
    "print(a[1,1])"
   ]
  },
  {
   "cell_type": "code",
   "execution_count": 1,
   "metadata": {},
   "outputs": [
    {
     "name": "stdout",
     "output_type": "stream",
     "text": [
      "[[1 2 3]\n",
      " [4 5 6]]\n",
      "[[2 4 5]\n",
      " [1 3 3]]\n",
      "\n",
      " horizontal concat\n",
      "[[1 2 3]\n",
      " [4 5 6]\n",
      " [2 4 5]\n",
      " [1 3 3]]\n",
      "\n",
      " vartical concat\n",
      "[[1 2 3 2 4 5]\n",
      " [4 5 6 1 3 3]]\n",
      "\n",
      " row way\n",
      "[[[1 2 3]\n",
      "  [4 5 6]]\n",
      "\n",
      " [[2 4 5]\n",
      "  [1 3 3]]]\n",
      "\n",
      " coloum way\n",
      "[[[1 2 3]\n",
      "  [2 4 5]]\n",
      "\n",
      " [[4 5 6]\n",
      "  [1 3 3]]]\n"
     ]
    }
   ],
   "source": [
    "import numpy as np\n",
    "a =np.array([[1,2,3],[4,5,6]])\n",
    "b =np.array([[2,4,5],[1,3,3]])\n",
    "print(a)\n",
    "print(b)\n",
    "import numpy as np\n",
    "a =np.array([[1,2,3],[4,5,6]])\n",
    "b =np.array([[2,4,5],[1,3,3]])\n",
    "print(a)\n",
    "print(b)\n",
    "print(\"\\n horizontal concat\")\n",
    "print(np.concatenate((a,b),axis=0))\n",
    "print(\"\\n horizontal concat\")\n",
    "print(np.concatenate((a,b),axis=0))\n",
    "print(\"\\n vartical concat\")\n",
    "print(np.concatenate((a,b),axis=1))\n",
    "print(\"\\n row way\")\n",
    "print(np.stack((a,b),axis=0))\n",
    "print(\"\\n coloum way\")\n",
    "print(np.stack((a,b),axis=1))\n",
    "print(\"\\n horizontal concat\")\n",
    "print(np.concatenate((a,b),axis=0))\n",
    "print(\"\\n vartical concat\")\n",
    "print(np.concatenate((a,b),axis=1))\n",
    "print(\"\\n row way\")\n",
    "print(np.stack((a,b),axis=0))\n",
    "print(\"\\n coloum way\")\n",
    "print(np.stack((a,b),axis=1))"
   ]
  },
  {
   "cell_type": "code",
   "execution_count": 4,
   "metadata": {},
   "outputs": [
    {
     "name": "stdout",
     "output_type": "stream",
     "text": [
      "[[1 2 3]\n",
      " [4 5 6]]\n",
      "[[2 4 5]\n",
      " [1 3 3]]\n",
      "\n",
      " row way\n",
      "[[[1 2 3]\n",
      "  [4 5 6]]\n",
      "\n",
      " [[2 4 5]\n",
      "  [1 3 3]]]\n",
      "\n",
      " coloum way\n",
      "[[[1 2 3]\n",
      "  [2 4 5]]\n",
      "\n",
      " [[4 5 6]\n",
      "  [1 3 3]]]\n",
      "\n",
      " horizontal stack\n",
      "[[1 2 3 2 4 5]\n",
      " [4 5 6 1 3 3]]\n",
      "\n",
      " horizontal concat\n",
      "[[1 2 3]\n",
      " [4 5 6]\n",
      " [2 4 5]\n",
      " [1 3 3]]\n",
      "\n",
      " vartical stack\n",
      "[[1 2 3 2 4 5]\n",
      " [4 5 6 1 3 3]]\n",
      "\n",
      " vartical concat\n",
      "[[1 2 3 2 4 5]\n",
      " [4 5 6 1 3 3]]\n"
     ]
    }
   ],
   "source": [
    "import numpy as np\n",
    "a =np.array([[1,2,3],[4,5,6]])\n",
    "b =np.array([[2,4,5],[1,3,3]])\n",
    "print(a)\n",
    "print(b)\n",
    "print(\"\\n row way\")\n",
    "print(np.stack((a,b),axis=0))\n",
    "print(\"\\n coloum way\")\n",
    "print(np.stack((a,b),axis=1))\n",
    "print(\"\\n horizontal stack\")\n",
    "print(np.hstack((a,b)))\n",
    "print(\"\\n horizontal concat\")\n",
    "print(np.concatenate((a,b),axis=0))\n",
    "print(\"\\n vartical stack\")\n",
    "print(np.hstack((a,b)))\n",
    "print(\"\\n vartical concat\")\n",
    "print(np.concatenate((a,b),axis=1))"
   ]
  },
  {
   "cell_type": "code",
   "execution_count": 7,
   "metadata": {},
   "outputs": [
    {
     "name": "stdout",
     "output_type": "stream",
     "text": [
      "[[1 2 3]\n",
      " [4 5 6]]\n",
      "[array([[1],\n",
      "       [4]]), array([[2],\n",
      "       [5]]), array([[3],\n",
      "       [6]])]\n"
     ]
    }
   ],
   "source": [
    "print(a)\n",
    "print(np.split(a,3,axis=1))"
   ]
  },
  {
   "cell_type": "code",
   "execution_count": 8,
   "metadata": {},
   "outputs": [
    {
     "name": "stdout",
     "output_type": "stream",
     "text": [
      "[array([[1, 2, 3]]), array([[4, 5, 6]]), array([], shape=(0, 3), dtype=int32)]\n"
     ]
    }
   ],
   "source": [
    "print(np.split(a,[1,2],axis=0))"
   ]
  },
  {
   "cell_type": "code",
   "execution_count": 9,
   "metadata": {},
   "outputs": [
    {
     "data": {
      "text/plain": [
       "array([[1, 2, 3]])"
      ]
     },
     "execution_count": 9,
     "metadata": {},
     "output_type": "execute_result"
    }
   ],
   "source": [
    "a[:1]"
   ]
  },
  {
   "cell_type": "code",
   "execution_count": 10,
   "metadata": {},
   "outputs": [
    {
     "data": {
      "text/plain": [
       "array([[4, 5, 6]])"
      ]
     },
     "execution_count": 10,
     "metadata": {},
     "output_type": "execute_result"
    }
   ],
   "source": [
    "a[1:2]"
   ]
  },
  {
   "cell_type": "code",
   "execution_count": 11,
   "metadata": {},
   "outputs": [
    {
     "data": {
      "text/plain": [
       "array([], shape=(0, 3), dtype=int32)"
      ]
     },
     "execution_count": 11,
     "metadata": {},
     "output_type": "execute_result"
    }
   ],
   "source": [
    "a[2:]"
   ]
  },
  {
   "cell_type": "code",
   "execution_count": 12,
   "metadata": {},
   "outputs": [
    {
     "data": {
      "text/plain": [
       "array([[1, 2, 3],\n",
       "       [4, 5, 6]])"
      ]
     },
     "execution_count": 12,
     "metadata": {},
     "output_type": "execute_result"
    }
   ],
   "source": [
    "a"
   ]
  },
  {
   "cell_type": "code",
   "execution_count": 13,
   "metadata": {},
   "outputs": [
    {
     "name": "stdout",
     "output_type": "stream",
     "text": [
      "[array([[1],\n",
      "       [4]]), array([[2],\n",
      "       [5]]), array([[3],\n",
      "       [6]])]\n"
     ]
    }
   ],
   "source": [
    "print(np.split(a,[1,2],axis=1))"
   ]
  },
  {
   "cell_type": "code",
   "execution_count": 14,
   "metadata": {},
   "outputs": [
    {
     "data": {
      "text/plain": [
       "array([[1],\n",
       "       [4]])"
      ]
     },
     "execution_count": 14,
     "metadata": {},
     "output_type": "execute_result"
    }
   ],
   "source": [
    "a[:,:1]"
   ]
  },
  {
   "cell_type": "code",
   "execution_count": 15,
   "metadata": {},
   "outputs": [
    {
     "data": {
      "text/plain": [
       "array([[2],\n",
       "       [5]])"
      ]
     },
     "execution_count": 15,
     "metadata": {},
     "output_type": "execute_result"
    }
   ],
   "source": [
    "a[:,1:2]"
   ]
  },
  {
   "cell_type": "code",
   "execution_count": 16,
   "metadata": {},
   "outputs": [
    {
     "data": {
      "text/plain": [
       "array([[3],\n",
       "       [6]])"
      ]
     },
     "execution_count": 16,
     "metadata": {},
     "output_type": "execute_result"
    }
   ],
   "source": [
    "a[:,2:]"
   ]
  },
  {
   "cell_type": "code",
   "execution_count": 5,
   "metadata": {},
   "outputs": [
    {
     "name": "stdout",
     "output_type": "stream",
     "text": [
      "[[-2.  -1.5 -1.  -0.5  0.   0.5  1.   1.5  2. ]\n",
      " [-2.  -1.5 -1.  -0.5  0.   0.5  1.   1.5  2. ]\n",
      " [-2.  -1.5 -1.  -0.5  0.   0.5  1.   1.5  2. ]\n",
      " [-2.  -1.5 -1.  -0.5  0.   0.5  1.   1.5  2. ]\n",
      " [-2.  -1.5 -1.  -0.5  0.   0.5  1.   1.5  2. ]\n",
      " [-2.  -1.5 -1.  -0.5  0.   0.5  1.   1.5  2. ]\n",
      " [-2.  -1.5 -1.  -0.5  0.   0.5  1.   1.5  2. ]\n",
      " [-2.  -1.5 -1.  -0.5  0.   0.5  1.   1.5  2. ]\n",
      " [-2.  -1.5 -1.  -0.5  0.   0.5  1.   1.5  2. ]]\n",
      "[[-5.   -5.   -5.   -5.   -5.   -5.   -5.   -5.   -5.  ]\n",
      " [-3.75 -3.75 -3.75 -3.75 -3.75 -3.75 -3.75 -3.75 -3.75]\n",
      " [-2.5  -2.5  -2.5  -2.5  -2.5  -2.5  -2.5  -2.5  -2.5 ]\n",
      " [-1.25 -1.25 -1.25 -1.25 -1.25 -1.25 -1.25 -1.25 -1.25]\n",
      " [ 0.    0.    0.    0.    0.    0.    0.    0.    0.  ]\n",
      " [ 1.25  1.25  1.25  1.25  1.25  1.25  1.25  1.25  1.25]\n",
      " [ 2.5   2.5   2.5   2.5   2.5   2.5   2.5   2.5   2.5 ]\n",
      " [ 3.75  3.75  3.75  3.75  3.75  3.75  3.75  3.75  3.75]\n",
      " [ 5.    5.    5.    5.    5.    5.    5.    5.    5.  ]]\n"
     ]
    }
   ],
   "source": [
    "import numpy as np\n",
    "x =np.linspace(-2,2,9)\n",
    "y =np.linspace(-5,5,9)\n",
    "x1,y1 =np.meshgrid(x,y)\n",
    "print(x1)\n",
    "print(y1)"
   ]
  }
 ],
 "metadata": {
  "kernelspec": {
   "display_name": "Python 3",
   "language": "python",
   "name": "python3"
  },
  "language_info": {
   "codemirror_mode": {
    "name": "ipython",
    "version": 3
   },
   "file_extension": ".py",
   "mimetype": "text/x-python",
   "name": "python",
   "nbconvert_exporter": "python",
   "pygments_lexer": "ipython3",
   "version": "3.7.7"
  }
 },
 "nbformat": 4,
 "nbformat_minor": 4
}
